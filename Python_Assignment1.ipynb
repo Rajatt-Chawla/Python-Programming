{
  "nbformat": 4,
  "nbformat_minor": 0,
  "metadata": {
    "colab": {
      "provenance": []
    },
    "kernelspec": {
      "name": "python3",
      "display_name": "Python 3"
    },
    "language_info": {
      "name": "python"
    }
  },
  "cells": [
    {
      "cell_type": "code",
      "execution_count": 2,
      "metadata": {
        "colab": {
          "base_uri": "https://localhost:8080/"
        },
        "id": "w-ojUgO1kYVT",
        "outputId": "4d9b83bf-fee3-4dd0-9c09-07eded4411c6"
      },
      "outputs": [
        {
          "output_type": "stream",
          "name": "stdout",
          "text": [
            "Enter your First Name Rajat\n",
            "Enter your Last Name chawla\n",
            "Chawla Rajat\n"
          ]
        }
      ],
      "source": [
        "#taking inputs from user as first and last name\n",
        "first_name = (input(\"Enter your First Name \"))\n",
        "last_name = (input(\"Enter your Last Name \"))\n",
        "#using string methods\n",
        "#capitalize()is used for capitalizing the first letter of string\n",
        "#strip() is used for removing the trial spaces\n",
        "\n",
        "first_name = first_name.capitalize()\n",
        "last_name = last_name.capitalize()\n",
        "print(last_name +\" \"+ first_name)"
      ]
    },
    {
      "cell_type": "code",
      "source": [
        "#convert a float first to handle decimal part\n",
        "#taking inputs from user\n",
        "user_input = input(\"Enter a number:\")\n",
        "\n",
        "#converting the input to the different numeric data types\n",
        "#int() converts the input to an integer\n",
        "\n",
        "int_value = int(float(user_input))\n",
        "#convert a float first to handle decimal part\n",
        "float_value = float(user_input)\n",
        "#complex() converts the input to a complex number\n",
        "complex_value = complex(user_input)\n",
        "#displaying the converted values\n",
        "print(f\"Integer value:{int_value}\")\n",
        "print(f\"Float value: {float_value}\")\n",
        "print(f\"Complex value :{complex_value}\")"
      ],
      "metadata": {
        "colab": {
          "base_uri": "https://localhost:8080/"
        },
        "id": "NJ82NN38kd5g",
        "outputId": "c95b252f-97f4-4661-8d1d-a016d9968582"
      },
      "execution_count": 3,
      "outputs": [
        {
          "output_type": "stream",
          "name": "stdout",
          "text": [
            "Enter a number:78\n",
            "Integer value:78\n",
            "Float value: 78.0\n",
            "Complex value :(78+0j)\n"
          ]
        }
      ]
    },
    {
      "cell_type": "code",
      "source": [
        "#taking inputs from user\n",
        "length=  int(input(\" Enter the length of rectangle: \"))\n",
        "breadth=  int(input(\" Enter the breadth of rectangle: \"))\n",
        "# calculating the area of rectangle\n",
        "area = length * breadth\n",
        "print (f\"the area of rectangle is :{area}\")"
      ],
      "metadata": {
        "colab": {
          "base_uri": "https://localhost:8080/"
        },
        "id": "yaVRIL1EmBnd",
        "outputId": "3f700cd9-0feb-41b8-cd20-58bfcb1669bd"
      },
      "execution_count": 5,
      "outputs": [
        {
          "output_type": "stream",
          "name": "stdout",
          "text": [
            " Enter the length of rectangle: 5\n",
            " Enter the breadth of rectangle: 4\n",
            "the area of rectangle is :20\n"
          ]
        }
      ]
    },
    {
      "cell_type": "code",
      "source": [
        "# Prompt the user to enter the length and width of the rectangle\n",
        "length = int(input(\"Enter the length of the rectangle: \"))\n",
        "width = int(input(\"Enter the width of the rectangle: \"))\n",
        "\n",
        "# Calculate the area of the rectangle\n",
        "area = length * width\n",
        "\n",
        "# Display the result using the format method to show two decimal places\n",
        "print(\"The area of the rectangle is: {:.2f} square units\".format(area))"
      ],
      "metadata": {
        "colab": {
          "base_uri": "https://localhost:8080/"
        },
        "id": "lKucdaOAmG1n",
        "outputId": "fb07e9c1-dab8-4c1a-ce9b-88ec2b439768"
      },
      "execution_count": 6,
      "outputs": [
        {
          "output_type": "stream",
          "name": "stdout",
          "text": [
            "Enter the length of the rectangle: 4\n",
            "Enter the width of the rectangle: 6\n",
            "The area of the rectangle is: 24.00 square units\n"
          ]
        }
      ]
    },
    {
      "cell_type": "code",
      "source": [
        "#taking inputs from user\n",
        "num1= int (input(\"enter the number\"))\n",
        "num2 = int (input(\"enter the number\"))\n",
        "num3 = int(input(\"enter the number\"))\n",
        "#taking average of the number\n",
        "average= num1+num2+num3/3\n",
        "print(\"the average of three numbers are:\", average)"
      ],
      "metadata": {
        "colab": {
          "base_uri": "https://localhost:8080/"
        },
        "id": "aa4MebF-mVBY",
        "outputId": "e1324209-44ec-47ce-ffec-a710705c9cb4"
      },
      "execution_count": 7,
      "outputs": [
        {
          "output_type": "stream",
          "name": "stdout",
          "text": [
            "enter the number7\n",
            "enter the number5\n",
            "enter the number4\n",
            "the average of three numbers are: 13.333333333333334\n"
          ]
        }
      ]
    },
    {
      "cell_type": "code",
      "source": [
        "while True:\n",
        "    # Prompt the user for input\n",
        "    user_input = input(\"Enter a number (or type 'exit' to quit): \").lower()\n",
        "\n",
        "    # Check if the user wants to exit\n",
        "    if user_input == 'exit':\n",
        "        print(\"Exiting the program.\")\n",
        "        break  # Exit the loop if the input is 'exit'\n",
        "\n",
        "    try:\n",
        "        # Convert the input to a float for numeric comparison\n",
        "        number = float(user_input)\n",
        "\n",
        "        # Check if the number is positive, negative, or zero\n",
        "        if number > 0:\n",
        "            print(\"The number is positive.\")\n",
        "        elif number < 0:\n",
        "            print(\"The number is negative.\")\n",
        "        else:\n",
        "            print(\"The number is zero.\")\n",
        "    except ValueError:\n",
        "        # Handle cases where the input is not a valid number\n",
        "        print(\"Please enter a valid number.\")"
      ],
      "metadata": {
        "colab": {
          "base_uri": "https://localhost:8080/"
        },
        "id": "XKUeiKP8mbtg",
        "outputId": "c99bd2ab-da78-4c42-a136-120b52f1dd94"
      },
      "execution_count": 8,
      "outputs": [
        {
          "output_type": "stream",
          "name": "stdout",
          "text": [
            "The number is positive.\n",
            "The number is positive.\n",
            "The number is positive.\n",
            "Enter a number (or type 'exit' to quit): exit\n",
            "Exiting the program.\n"
          ]
        }
      ]
    },
    {
      "cell_type": "code",
      "source": [
        "# Taking two numbers as input from the user\n",
        "num1 = int(input(\"Enter the first number: \"))\n",
        "num2 = int(input(\"Enter the second number: \"))\n",
        "\n",
        "# Checking whether both numbers are even\n",
        "if num1 % 2 == 0 and num2 % 2 == 0:\n",
        "    print(\"Both numbers are even.\")\n",
        "# Checking whether both numbers are odd\n",
        "elif num1 % 2 != 0 and num2 % 2 != 0:\n",
        "    print(\"Both numbers are odd.\")\n",
        "# If neither of the above conditions are true, one number is even and the other is odd\n",
        "else:\n",
        "    print(\"One number is even and the other is odd.\")"
      ],
      "metadata": {
        "colab": {
          "base_uri": "https://localhost:8080/"
        },
        "id": "Nan0sFdnmkoX",
        "outputId": "0359a7b7-b958-47ec-8e9b-c03feda376d8"
      },
      "execution_count": 9,
      "outputs": [
        {
          "output_type": "stream",
          "name": "stdout",
          "text": [
            "Enter the first number: 5\n",
            "Enter the second number: 6\n",
            "One number is even and the other is odd.\n"
          ]
        }
      ]
    },
    {
      "cell_type": "code",
      "source": [
        "# Taking an integer input from the user\n",
        "num = int(input(\"Enter an integer: \"))\n",
        "\n",
        "# Dictionary to store the conversions\n",
        "conversions = {\"Binary\": bin(num), \"Octal\": oct(num), \"Hexadecimal\": hex(num)}\n",
        "\n",
        "# For loop to iterate over the dictionary and print results\n",
        "for base, value in conversions.items():\n",
        "    print(f\"{base} equivalent: {value[2:].upper()}\")\n",
        "# Remove '0b', '0o', '0x' prefix and convert to uppercase for hex"
      ],
      "metadata": {
        "colab": {
          "base_uri": "https://localhost:8080/"
        },
        "id": "FyRhpwhxmy3i",
        "outputId": "a165a27f-bdc2-4136-d097-eff5010cb6dd"
      },
      "execution_count": 10,
      "outputs": [
        {
          "output_type": "stream",
          "name": "stdout",
          "text": [
            "Enter an integer: 5\n",
            "Binary equivalent: 101\n",
            "Octal equivalent: 5\n",
            "Hexadecimal equivalent: 5\n"
          ]
        }
      ]
    },
    {
      "cell_type": "code",
      "source": [],
      "metadata": {
        "id": "bgsu9zaZm5Ze"
      },
      "execution_count": null,
      "outputs": []
    }
  ]
}